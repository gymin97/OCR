{
 "cells": [
  {
   "cell_type": "markdown",
   "metadata": {},
   "source": [
    "###  convert to yolo\n",
    "\n",
    "\n",
    "- My data was downloaded from this [link](https://aihub.or.kr/aidata/30753), and I had to convert it because the annotation is different from yolo.\n",
    "\n",
    "- In OCR, Object Detection model only needs to know the character location, but it also contains the code to create the name file used by yolo.          \n",
    "\n",
    "\n",
    "- Referenced [GitHub](https://github.com/ssaru/convert2Yolo)\n",
    "- Format.py →  class – YOLO / def coordinateCvt2YOLO"
   ]
  },
  {
   "cell_type": "code",
   "execution_count": 1,
   "metadata": {},
   "outputs": [],
   "source": [
    "import os\n",
    "import pandas as pd\n",
    "import json"
   ]
  },
  {
   "cell_type": "code",
   "execution_count": 2,
   "metadata": {},
   "outputs": [],
   "source": [
    "## 함수화 \n",
    "\n",
    "def convert (image_w, image_h, xmin, ymin, w, h):\n",
    "    xmax = xmin + w\n",
    "    ymax = ymin + h\n",
    "    \n",
    "    dw = 1. / image_w\n",
    "    dh = 1. / image_h\n",
    "\n",
    "    # (xmin + xmax / 2)\n",
    "    x = (xmin + xmax) / 2.0\n",
    "    # (ymin + ymax / 2)\n",
    "    y = (ymin + ymax) / 2.0\n",
    "\n",
    "    x = x * dw\n",
    "    w = w * dw\n",
    "    y = y * dh\n",
    "    h = h * dh\n",
    "    return (round(x, 3), round(y, 3), round(w, 3), round(h, 3))\n"
   ]
  },
  {
   "cell_type": "code",
   "execution_count": 3,
   "metadata": {},
   "outputs": [
    {
     "name": "stdout",
     "output_type": "stream",
     "text": [
      "30311\n",
      "3205\n"
     ]
    }
   ],
   "source": [
    "## 데이터 내의 단일문자 개수를 파악합니다. Determine the number of single characters in the data.\n",
    "\n",
    "name_list = []\n",
    "\n",
    "\n",
    "folder = 'data/'\n",
    "\n",
    "file_list = os.listdir(folder)\n",
    "df = pd.DataFrame()\n",
    "\n",
    "\n",
    "for g in file_list:\n",
    "    path = os.path.join(folder,g)\n",
    "    with open(path,'r') as j:\n",
    "        contents=json.loads(j.read()) \n",
    "    for k in range (len(contents['Text_Coord'])):\n",
    "        for i in range (len(contents['Text_Coord'][k])):\n",
    "            name_list.append(contents['Text_Coord'][k][i][1])\n",
    "\n",
    "name_set = set(name_list)\n",
    "print (len(name_list)) \n",
    "print (len(name_set)) ## 중복제거 후"
   ]
  },
  {
   "cell_type": "code",
   "execution_count": 4,
   "metadata": {
    "collapsed": true
   },
   "outputs": [
    {
     "data": {
      "text/plain": [ ]
     },
     "execution_count": 4,
     "metadata": {},
     "output_type": "execute_result"
    }
   ],
   "source": [
    "name_set"
   ]
  },
  {
   "cell_type": "code",
   "execution_count": 5,
   "metadata": {
    "collapsed": true
   },
   "outputs": [ ]
     },
     "execution_count": 5,
     "metadata": {},
     "output_type": "execute_result"
    }
   ],
   "source": [
    "name_dict = dict.fromkeys(name_set)\n",
    "count = 0  ## 위치만 파악하는 경우 0\n",
    "for key in list(name_dict.keys()):\n",
    "    name_dict[key] = count\n",
    "#     count +=1  ## 문자 구분까지 시행하는 경우 주석 해제\n",
    "name_dict"
   ]
  },
  {
   "cell_type": "code",
   "execution_count": 6,
   "metadata": {},
   "outputs": [],
   "source": [
    "folder = 'data/'\n",
    "\n",
    "file_list = os.listdir(folder)\n",
    "df = pd.DataFrame()\n",
    "\n",
    "\n",
    "if not os.path.isdir('con2yolo val'):\n",
    "    os.mkdir('con2yolo val')\n",
    "    \n",
    "    \n",
    "for g in file_list:\n",
    "    path = os.path.join(folder,g)\n",
    "    with open(path,'r') as j:\n",
    "        contents=json.loads(j.read())    \n",
    "    f = open('con2yolo val/'+'{}.txt'.format(g[:-5]), 'w')\n",
    "    for k in range (len(contents['Text_Coord'])):\n",
    "        image_w = contents['Image_Width']\n",
    "        image_h = contents['Image_Height']\n",
    "        \n",
    "        for i in range (len(contents['Text_Coord'][k])):\n",
    "            xmin = contents['Text_Coord'][k][i][0][0]\n",
    "            ymin = contents['Text_Coord'][k][i][0][1]\n",
    "            w = contents['Text_Coord'][k][i][0][2]\n",
    "            h = contents['Text_Coord'][k][i][0][3]\n",
    "\n",
    "            x,y,w,h = convert (image_w, image_h, xmin, ymin, w, h)\n",
    "            name = name_dict[contents['Text_Coord'][k][i][1]]\n",
    "            write = str(name)+' '+str(x)+' '+str(y)+' '+str(w)+' '+str(h)\n",
    "            f.write(write + '\\n')\n",
    "    f.close()"
   ]
  },
  {
   "cell_type": "code",
   "execution_count": 7,
   "metadata": {},
   "outputs": [],
   "source": [
    "## make names file \n",
    "\n",
    "f = open('name.names'.format(g), 'w')\n",
    "for name in list(name_dict.keys()):\n",
    "    f.write(name + '\\n')\n",
    "f.close()"
   ]
  }
 ],
 "metadata": {
  "kernelspec": {
   "display_name": "Python 3",
   "language": "python",
   "name": "python3"
  },
  "language_info": {
   "codemirror_mode": {
    "name": "ipython",
    "version": 3
   },
   "file_extension": ".py",
   "mimetype": "text/x-python",
   "name": "python",
   "nbconvert_exporter": "python",
   "pygments_lexer": "ipython3",
   "version": "3.8.5"
  }
 },
 "nbformat": 4,
 "nbformat_minor": 2
}
